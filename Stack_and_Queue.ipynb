{
 "cells": [
  {
   "cell_type": "markdown",
   "metadata": {},
   "source": [
    "## 1. Construct a queue using a circular array"
   ]
  },
  {
   "cell_type": "code",
   "execution_count": 4,
   "metadata": {},
   "outputs": [],
   "source": [
    "#Exceptions\n",
    "class EmptyQueueException(Exception):\n",
    "    pass\n",
    "class FullQueueException(Exception):\n",
    "    pass\n",
    "\n",
    "class queue_with_circular_array():\n",
    "    def __init__(self, N):\n",
    "        self.Q = [None]*N\n",
    "        self.N = N\n",
    "        self.f = 0\n",
    "        self.r = N-1\n",
    "        \n",
    "    def size(self):\n",
    "        return (self.N + self.r - self.f + 1)%self.N\n",
    "    \n",
    "    def isEmpty(self):\n",
    "        return (self.r + 1)%self.N == self.f\n",
    "        # return self.size() == 0 \n",
    "        \n",
    "    def isFull(self):\n",
    "        return (self.r + 2)%self.N == self.f\n",
    "        # return self.size() == self.N - 1 \n",
    "\n",
    "    def enQ(self, e):\n",
    "        if self.isFull():\n",
    "            raise FullQueueException()\n",
    "        self.r = (self.r + 1)%self.N # r 증가\n",
    "        self.Q[self.r] = e\n",
    "        \n",
    "    def deQ(self):\n",
    "        if self.isEmpty():\n",
    "            raise EmptyQueueException()\n",
    "        e = self.Q[self.f]\n",
    "        self.f = (self.f + 1)%self.N # f 증가\n",
    "        return e\n",
    "    \n",
    "    def front(self):\n",
    "        if self.isEmpty():\n",
    "            raise EmptyQueueException()\n",
    "        return self.Q[self.f]"
   ]
  },
  {
   "cell_type": "code",
   "execution_count": 7,
   "metadata": {},
   "outputs": [
    {
     "name": "stdout",
     "output_type": "stream",
     "text": [
      "FullQueueException\n",
      "Full size : 49\n"
     ]
    }
   ],
   "source": [
    "queue = queue_with_circular_array(50)\n",
    "try:\n",
    "    while(1):\n",
    "        queue.enQ('a')\n",
    "except FullQueueException:\n",
    "    print(\"FullQueueException\")\n",
    "finally:\n",
    "    print(\"Full size :\", queue.size())"
   ]
  },
  {
   "cell_type": "markdown",
   "metadata": {},
   "source": [
    "Explain how you are going to differentiate between full and empty\n",
    "<br><br>=> 만약 N칸의 배열을 만들었을 때, full size를 N칸이라고 생각한다면, (r + 1)%N == f 일 때가 full이라고 판단하게 된다. <br>하지만 저 수식은 empty의 수식과 일치하므로 둘의 의미가 혼동하게 된다. <br>따라서 가상의 방 한 칸을 만들어 비워두고, 그 한 칸을 제외한 나머지 칸이 전부 채워졌을 때(N-1)를 full이라고 판단한다면 혼동이 없을 것이다. <br>이를 수식으로 표현하면 (r + 2)%N == f이다."
   ]
  },
  {
   "cell_type": "markdown",
   "metadata": {},
   "source": [
    "## 2. Reverse a String using 2 queues"
   ]
  },
  {
   "cell_type": "code",
   "execution_count": null,
   "metadata": {},
   "outputs": [],
   "source": [
    "class stack_2queue():\n",
    "    def __init__(self):\n",
    "        self.queue1 = queue_with_circular_array(100)\n",
    "        self.queue2 = queue_with_circular_array(100)\n",
    "        \n",
    "    def push(self, e):\n",
    "        self.queue1.enQ(e)\n",
    "    \n",
    "    def pop(self):\n",
    "        if self.queue1.isEmpty():\n",
    "            Exception()\n",
    "        e = None\n",
    "        while(1):\n",
    "            e = self.queue1.deQ()\n",
    "            if self.queue1.isEmpty():\n",
    "                break\n",
    "            self.queue2.enQ(e)\n",
    "        while(not self.queue2.isEmpty()):\n",
    "            self.queue1.enQ(self.queue2.deQ())\n",
    "        return e"
   ]
  }
 ],
 "metadata": {
  "kernelspec": {
   "display_name": "Python 3",
   "language": "python",
   "name": "python3"
  },
  "language_info": {
   "codemirror_mode": {
    "name": "ipython",
    "version": 3
   },
   "file_extension": ".py",
   "mimetype": "text/x-python",
   "name": "python",
   "nbconvert_exporter": "python",
   "pygments_lexer": "ipython3",
   "version": "3.10.10"
  }
 },
 "nbformat": 4,
 "nbformat_minor": 2
}
