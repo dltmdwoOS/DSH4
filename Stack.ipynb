{
 "cells": [
  {
   "cell_type": "markdown",
   "metadata": {},
   "source": [
    "## 0. Build your own Stack"
   ]
  },
  {
   "cell_type": "code",
   "execution_count": 11,
   "metadata": {},
   "outputs": [],
   "source": [
    "#Exceptions\n",
    "class EmptyStackException(Exception):\n",
    "    pass\n",
    "class FullStackException(Exception):\n",
    "    pass\n",
    "\n",
    "\n",
    "class node(): # 단일연결리스트 노드\n",
    "    def __init__(self, e):\n",
    "        self.elem = e\n",
    "        self.next = None\n",
    "        \n",
    "class Stack_with_SLL(): # 단일연결리스트 스택\n",
    "    def __init__(self):\n",
    "        self.t = None\n",
    "        \n",
    "    def push(self, e):\n",
    "        new_node = node(e)\n",
    "        new_node.next = self.t\n",
    "        self.t = new_node\n",
    "        \n",
    "    def pop(self):\n",
    "        if self.isEmpty():\n",
    "            raise EmptyStackException()\n",
    "        \n",
    "        e = self.t.elem\n",
    "        self.t = self.t.next\n",
    "        return e\n",
    "    \n",
    "    def top(self):\n",
    "        if self.isEmpty():\n",
    "            raise EmptyStackException()\n",
    "        \n",
    "        return self.t.elem\n",
    "    \n",
    "    def isEmpty(self):\n",
    "        return self.t == None\n",
    "    \n",
    "class Stack_with_array(): # 배열 스택\n",
    "    def __init__(self, N):\n",
    "        self.stack = [None]*N\n",
    "        self.N = N\n",
    "        self.t = -1\n",
    "        \n",
    "    def push(self, e):\n",
    "        if self.t == self.N - 1:\n",
    "            raise FullStackException()\n",
    "        \n",
    "        self.t += 1\n",
    "        self.stack[self.t] = e\n",
    "        \n",
    "    def pop(self):\n",
    "        if self.isEmpty():\n",
    "            raise EmptyStackException()\n",
    "        \n",
    "        self.t -= 1\n",
    "        return self.stack[self.t+1]\n",
    "    \n",
    "    def top(self):\n",
    "        if self.isEmpty():\n",
    "            raise EmptyStackException()\n",
    "        \n",
    "        return self.stack[self.t]\n",
    "    \n",
    "    def isEmpty(self):\n",
    "        return self.t == -1"
   ]
  },
  {
   "cell_type": "markdown",
   "metadata": {},
   "source": [
    "## 1. Check valid parenthesis"
   ]
  },
  {
   "cell_type": "code",
   "execution_count": 12,
   "metadata": {},
   "outputs": [],
   "source": [
    "def isBalanced(symbols : str) -> bool:\n",
    "    '''\n",
    "    Input : stream of symbols\n",
    "    Output : boolean\n",
    "    '''\n",
    "    stack = Stack_with_SLL()\n",
    "    for symbol in symbols:\n",
    "        if symbol == '(':\n",
    "            stack.push(symbol)\n",
    "        else:\n",
    "            if stack.isEmpty():\n",
    "                return False\n",
    "            stack.pop()\n",
    "    if stack.isEmpty():\n",
    "        return True\n",
    "    else:\n",
    "        return False"
   ]
  },
  {
   "cell_type": "code",
   "execution_count": 13,
   "metadata": {},
   "outputs": [
    {
     "name": "stdout",
     "output_type": "stream",
     "text": [
      "True\n",
      "True\n",
      "False\n"
     ]
    }
   ],
   "source": [
    "print(isBalanced(\"()()\"))\n",
    "print(isBalanced(\"((()))\"))\n",
    "print(isBalanced(\"(()))\"))"
   ]
  },
  {
   "cell_type": "markdown",
   "metadata": {},
   "source": [
    "## 2. Compute postfix equation using stack"
   ]
  },
  {
   "cell_type": "code",
   "execution_count": 17,
   "metadata": {},
   "outputs": [],
   "source": [
    "def isOperand(s):\n",
    "    '''\n",
    "    Input : character\n",
    "    Output : boolean\n",
    "    '''\n",
    "    operator = ['+', '-', '*', '/', '(', ')']\n",
    "    if s in operator:\n",
    "        return False\n",
    "    else:\n",
    "        return True\n",
    "\n",
    "def doOperator(op, x, y):\n",
    "    '''\n",
    "    Input : operator op, operand x, y\n",
    "    Output : result of applying y to x\n",
    "    '''\n",
    "    if op == '+':\n",
    "        return x+y\n",
    "    elif op =='-':\n",
    "        return x-y\n",
    "    elif op =='*':\n",
    "        return x*y\n",
    "    elif op =='/':\n",
    "        return x/y\n",
    "    \n",
    "def evaluate(exp):\n",
    "    '''\n",
    "    Input : stream of legal postfix exp\n",
    "    Ouput : number\n",
    "    '''\n",
    "    exp = exp.split()\n",
    "    stack = Stack_with_SLL()\n",
    "    for s in exp:\n",
    "        if isOperand(s): # operand일 때\n",
    "            stack.push(int(s))\n",
    "        else: # operator일 때\n",
    "            a = stack.pop()\n",
    "            b = stack.pop()\n",
    "            c = doOperator(s, b, a)\n",
    "            stack.push(c)\n",
    "    return stack.pop()"
   ]
  },
  {
   "cell_type": "code",
   "execution_count": 20,
   "metadata": {},
   "outputs": [
    {
     "name": "stdout",
     "output_type": "stream",
     "text": [
      "8\n",
      "2.0\n",
      "-16\n"
     ]
    }
   ],
   "source": [
    "print(evaluate(\"3 5 +\"))\n",
    "print(evaluate(\"3 4 + 2 * 7 /\"))\n",
    "print(evaluate(\"4 5 7 2 + - *\"))"
   ]
  },
  {
   "cell_type": "markdown",
   "metadata": {},
   "source": [
    "## 3. Convert your infix expression to postfix"
   ]
  },
  {
   "cell_type": "code",
   "execution_count": 21,
   "metadata": {},
   "outputs": [],
   "source": [
    "def isOperand(s):\n",
    "    operator = ['+', '-', '*', '/', '(', ')']\n",
    "    if s in operator:\n",
    "        return False\n",
    "    else:\n",
    "        return True\n",
    "\n",
    "P = {\n",
    "    '(':0,\n",
    "    '+':1,\n",
    "    '-':1,\n",
    "    '*':2,\n",
    "    '/':2\n",
    "}\n",
    "\n",
    "def convert(infixExp):\n",
    "    '''\n",
    "    Input : stream of legal infix expression\n",
    "    Output : stream of postfix expression\n",
    "    '''\n",
    "    infixExp = infixExp.split()\n",
    "    stack = Stack_with_SLL()\n",
    "    postfixExp = \"\"\n",
    "    for s in infixExp:\n",
    "        if isOperand(s): # Operand일 떄\n",
    "            postfixExp += s + \" \"\n",
    "        elif s == '(': # ( 일 때\n",
    "            stack.push(s)\n",
    "        elif s == ')': # ) 일 때\n",
    "            while (stack.top() != '('):\n",
    "                postfixExp += stack.pop() + \" \"\n",
    "            stack.pop() # '(' 제거\n",
    "        else: # Operator 일 때\n",
    "            while (not stack.isEmpty() and P[s] <= P[stack.top()]): # Stack 중에서 우선순위 `같거나 높은` Operator 먼저 출력 \n",
    "                postfixExp += stack.pop() + \" \"\n",
    "            stack.push(s)\n",
    "    while(1):\n",
    "        if (stack.isEmpty()):\n",
    "            break\n",
    "        postfixExp += stack.pop() + \" \"\n",
    "    return postfixExp"
   ]
  },
  {
   "cell_type": "code",
   "execution_count": 24,
   "metadata": {},
   "outputs": [
    {
     "name": "stdout",
     "output_type": "stream",
     "text": [
      "4 6 + \n",
      "2 4 2 * + \n",
      "2 4 + 3 * \n"
     ]
    }
   ],
   "source": [
    "print(convert(\"4 + 6\"))\n",
    "print(convert(\"2 + ( 4 * 2 ) \"))\n",
    "print(convert(\"( 2 + 4 ) * 3\"))"
   ]
  }
 ],
 "metadata": {
  "kernelspec": {
   "display_name": "Python 3",
   "language": "python",
   "name": "python3"
  },
  "language_info": {
   "codemirror_mode": {
    "name": "ipython",
    "version": 3
   },
   "file_extension": ".py",
   "mimetype": "text/x-python",
   "name": "python",
   "nbconvert_exporter": "python",
   "pygments_lexer": "ipython3",
   "version": "3.10.10"
  }
 },
 "nbformat": 4,
 "nbformat_minor": 2
}
